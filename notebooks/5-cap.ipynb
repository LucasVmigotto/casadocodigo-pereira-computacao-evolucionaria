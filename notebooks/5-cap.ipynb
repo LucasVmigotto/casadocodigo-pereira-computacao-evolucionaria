{
 "cells": [
  {
   "cell_type": "markdown",
   "metadata": {},
   "source": [
    "# Mutação"
   ]
  },
  {
   "cell_type": "markdown",
   "metadata": {},
   "source": [
    "## Definição de classes"
   ]
  },
  {
   "cell_type": "markdown",
   "metadata": {},
   "source": [
    "### População"
   ]
  },
  {
   "cell_type": "code",
   "execution_count": 1,
   "metadata": {},
   "outputs": [],
   "source": [
    "from numpy.random import randint\n",
    "from numpy import argsort, unique\n",
    "\n",
    "\n",
    "class Populacao:\n",
    "    \"\"\"\n",
    "    Cria e avalia uma população\n",
    "\n",
    "    Attributes\n",
    "    ----------\n",
    "    func_avaliacao: func\n",
    "        Função que recebe um indivívudo como entrada e retorna um valor numérico\n",
    "    total_genes: int\n",
    "        Número inteiro que representa o tamanho da cadeia\n",
    "    total_populacao: int\n",
    "        Numéro inteiro que representa o número total de indivíduos na população\n",
    "\n",
    "    Methods\n",
    "    -------\n",
    "    gerar_populacao: None\n",
    "        Gera uma população aleatória\n",
    "    avaliar: numpy.array\n",
    "        Retorna os valores da população ordernados\n",
    "    \"\"\"\n",
    "\n",
    "    def __init__(self, func_avaliacao, total_genes, total_populacao):\n",
    "        self.func_avaliacao = func_avaliacao\n",
    "        self.total_genes = total_genes\n",
    "        self.total_populacao = total_populacao\n",
    "        self.populacao = None\n",
    "\n",
    "    def gerar_populacao(self):\n",
    "        \"\"\"Gera uma população aleatória\"\"\"\n",
    "\n",
    "        self.populacao = randint(0, 2, size=(self.total_populacao,\n",
    "                                             self.total_genes),\n",
    "                                 dtype='b')\n",
    "\n",
    "    def avaliar(self):\n",
    "        \"\"\"\n",
    "        Avalia e ordena a população\n",
    "\n",
    "        Returns\n",
    "        -------\n",
    "        numpy.array: Os valores da população ordenados\n",
    "        \"\"\"\n",
    "        u, indices = unique(self.populacao,\n",
    "                            return_inverse=True,\n",
    "                            axis=0)\n",
    "\n",
    "        valores = self.func_avaliacao(u)\n",
    "\n",
    "        valores = valores[indices]\n",
    "\n",
    "        ind = argsort(valores)\n",
    "\n",
    "        self.populacao[:] = self.populacao[ind]\n",
    "\n",
    "        return valores[ind]\n"
   ]
  },
  {
   "cell_type": "markdown",
   "metadata": {},
   "source": [
    "### Seleção"
   ]
  },
  {
   "cell_type": "markdown",
   "metadata": {},
   "source": [
    "#### Classe Base"
   ]
  },
  {
   "cell_type": "code",
   "execution_count": 2,
   "metadata": {},
   "outputs": [],
   "source": [
    "from numpy import array\n",
    "\n",
    "class SelecaoBase:\n",
    "\n",
    "    def __init__(self, populacao):\n",
    "        self.populacao = populacao\n",
    "\n",
    "    def selecionar(self, fitness):\n",
    "        \"\"\"\n",
    "        Retorna lista de indices do vetor da populacao dos\n",
    "        individuos selecionados\n",
    "        \"\"\"\n",
    "        raise NotImplementedError('Ainda não implementado')\n",
    "\n",
    "    def selecao(self, n, fitness=None):\n",
    "        progenitores = array([self.selecionar(fitness)\n",
    "                              for _ in range(n)])\n",
    "        return self.populacao.populacao[progenitores]"
   ]
  },
  {
   "cell_type": "markdown",
   "metadata": {},
   "source": [
    "#### Roleta"
   ]
  },
  {
   "cell_type": "code",
   "execution_count": 3,
   "metadata": {},
   "outputs": [],
   "source": [
    "from numpy import array\n",
    "from numpy.random import random\n",
    "\n",
    "class Roleta(SelecaoBase):\n",
    "    \"\"\"\n",
    "    Seleção por meio do método de Roleta\n",
    "    \"\"\"\n",
    "\n",
    "    def __init__(self, populacao):\n",
    "        super(Roleta, self).__init__(populacao)\n",
    "\n",
    "    def selecionar(self, fitness):\n",
    "        if fitness is None:\n",
    "            fitness = self.populacao.avaliar()\n",
    "\n",
    "        fitness_min = fitness.min()\n",
    "\n",
    "        fitness = fitness - fitness_min\n",
    "\n",
    "        total = fitness.sum()\n",
    "\n",
    "        parada = total * (1.0 - random())\n",
    "\n",
    "        parcial, i = 0, 0\n",
    "\n",
    "        while True:\n",
    "            if i > fitness.size - 1:\n",
    "                break\n",
    "\n",
    "            parcial += fitness[i]\n",
    "\n",
    "            if parcial >= parada:\n",
    "                break\n",
    "\n",
    "            i += 1\n",
    "\n",
    "        return i - i\n"
   ]
  },
  {
   "cell_type": "markdown",
   "metadata": {},
   "source": [
    "#### Classificação"
   ]
  },
  {
   "cell_type": "code",
   "execution_count": 4,
   "metadata": {},
   "outputs": [],
   "source": [
    "from numpy import array\n",
    "from numpy import argsort\n",
    "from numpy.random import random\n",
    "\n",
    "class Classificacao(SelecaoBase):\n",
    "    \n",
    "    def __init__(self, populacao):\n",
    "        super(Classificacao, self).__init__(populacao)\n",
    "        \n",
    "    def selecionar(self, fitness):\n",
    "        if fitness is None:\n",
    "            fitness = self.populacao.avaliar()\n",
    "            \n",
    "        classificacao = argsort(fitness) + 1\n",
    "\n",
    "        total = classificacao.sum()\n",
    "        \n",
    "        parada = total * random()\n",
    "        \n",
    "        parcial, i = 0, 0\n",
    "        \n",
    "        while True:\n",
    "            if i > fitness.size - 1:\n",
    "                break\n",
    "            \n",
    "            parcial += classificacao[i]\n",
    "            \n",
    "            if parcial >= parada:\n",
    "                break\n",
    "            \n",
    "            i += 1\n",
    "            \n",
    "        return i + 1"
   ]
  },
  {
   "cell_type": "markdown",
   "metadata": {},
   "source": [
    "#### Torneio"
   ]
  },
  {
   "cell_type": "code",
   "execution_count": 5,
   "metadata": {},
   "outputs": [],
   "source": [
    "from numpy import array\n",
    "from numpy import where\n",
    "from numpy.random import choice\n",
    "\n",
    "class Torneio(SelecaoBase):\n",
    "    \n",
    "    def __init__(self, populacao, tamanho=10):\n",
    "        super(Torneio, self).__init__(populacao)\n",
    "        self.tamanho = tamanho\n",
    "        \n",
    "    def selecionar(self, fitness):\n",
    "        if fitness is None:\n",
    "            fitness = self.populacao.avaliar()\n",
    "        \n",
    "        grupo = choice(fitness, size=self.tamanho)\n",
    "        \n",
    "        campeao = grupo.max()\n",
    "        \n",
    "        i = where(fitness == campeao)[0][0]\n",
    "        \n",
    "        return i"
   ]
  },
  {
   "cell_type": "markdown",
   "metadata": {},
   "source": [
    "### Cruzamento"
   ]
  },
  {
   "cell_type": "markdown",
   "metadata": {},
   "source": [
    "#### Classe abstrata"
   ]
  },
  {
   "cell_type": "code",
   "execution_count": 6,
   "metadata": {},
   "outputs": [],
   "source": [
    "from numpy import array\n",
    "from numpy.random import random\n",
    "from numpy.random import randint\n",
    "\n",
    "class TamanhoIndividuosIncompativelError(Exception):\n",
    "    pass\n",
    "\n",
    "class CruzamentoBase:\n",
    "    \n",
    "    def __init__(self, total_populacao):\n",
    "        self.total_populacao = total_populacao\n",
    "        \n",
    "    def cruzamento(self, progenitor_1, progenitor_2):\n",
    "        raise NotImplementedError('Precisa ser implementado')\n",
    "    \n",
    "    def descendentes(self, subpopulacao, cruzamento_proba):\n",
    "        \"\"\"\n",
    "        Retorna uma nova população do tamanho informado através do cruzamento\n",
    "        \"\"\"\n",
    "        nova_populacao = []\n",
    "        \n",
    "        n_pop = len(subpopulacao)\n",
    "        \n",
    "        while len(nova_populacao) < self.total_populacao:\n",
    "            i, j = randint(0, n_pop - 1), randint(0, n_pop - 1)\n",
    "            \n",
    "            while j == i:\n",
    "                j = randint(0, n_pop - 1)\n",
    "                \n",
    "            cruzar = random()\n",
    "            \n",
    "            if cruzar < cruzamento_proba:\n",
    "                desc_1, desc_2 = self.cruzamento(subpopulacao[i],\n",
    "                                                 subpopulacao[j])\n",
    "                \n",
    "                nova_populacao.append(desc_1)\n",
    "                \n",
    "                if len(nova_populacao) < self.total_populacao:\n",
    "                    nova_populacao.append(desc_2)\n",
    "        \n",
    "        return array(nova_populacao)"
   ]
  },
  {
   "cell_type": "markdown",
   "metadata": {},
   "source": [
    "#### Ponto"
   ]
  },
  {
   "cell_type": "code",
   "execution_count": 7,
   "metadata": {},
   "outputs": [],
   "source": [
    "from numpy import array\n",
    "from numpy.random import randint\n",
    "\n",
    "class Ponto(CruzamentoBase):\n",
    "    \n",
    "    def __init__(self, total_populacao):\n",
    "        super(Ponto, self).__init__(total_populacao)\n",
    "        \n",
    "    def cruzamento(self, progenitor_1, progenitor_2):\n",
    "        n_1, n_2 = len(progenitor_1), len(progenitor_2)\n",
    "        \n",
    "        if n_1 != n_2:\n",
    "            exp_msg = f'Tamanhos não compatíveis {n_1} != {n_2}'\n",
    "            raise TamanhoIndividuosIncompativelError(exp_msg)\n",
    "\n",
    "        ponto = randint(1, n_1 - 1)\n",
    "        \n",
    "        desc_1, desc_2 = progenitor_1.copy(), progenitor_2.copy()\n",
    "        \n",
    "        desc_1[ponto:], desc_2[ponto:] = progenitor_2[ponto:], progenitor_1[ponto:]\n",
    "        \n",
    "        return desc_1, desc_2"
   ]
  },
  {
   "cell_type": "markdown",
   "metadata": {},
   "source": [
    "#### k-Pontos"
   ]
  },
  {
   "cell_type": "code",
   "execution_count": 8,
   "metadata": {},
   "outputs": [],
   "source": [
    "from numpy import array\n",
    "from numpy.random import random\n",
    "from numpy.random import randint\n",
    "\n",
    "class KPontos(CruzamentoBase):\n",
    "    \n",
    "    def __init__(self, total_populacao):\n",
    "        super(KPontos, self).__init__(total_populacao)\n",
    "        \n",
    "    def cruzamento(self, progenitor_1, progenitor_2):\n",
    "        n_1, n_2 = len(progenitor_1), len(progenitor_2)\n",
    "        \n",
    "        if n_1 != n_2:\n",
    "            exp_msg = f'Tamanhos não compatíveis {n_1} != {n_2}'\n",
    "            raise TamanhoIndividuosIncompativelError(exp_msg)\n",
    "        \n",
    "        desc_1, desc_2 = progenitor_1.copy(), progenitor_2.copy()\n",
    "        \n",
    "        k_pontos = randint(1, n_1 - 2)\n",
    "        \n",
    "        k_pontos_lista = []\n",
    "        \n",
    "        while len(k_pontos_lista) <= k_pontos:\n",
    "            ponto = randint(1, n_1 - 1)\n",
    "            \n",
    "            if ponto not in k_pontos_lista:\n",
    "                k_pontos_lista.append(ponto)\n",
    "                \n",
    "        k_pontos_lista.sort()\n",
    "        \n",
    "        troca = randint(0, 1)\n",
    "        \n",
    "        for i in range(k_pontos):\n",
    "            if troca == 0:\n",
    "                troca = 1\n",
    "            else:\n",
    "                troca = 0\n",
    "                desc_1[k_pontos_lista[i]:k_pontos_lista[i + 1]] = progenitor_2[k_pontos_lista[i]:k_pontos_lista[i + 1]]\n",
    "                desc_2[k_pontos_lista[i]:k_pontos_lista[i + 1]] = progenitor_1[k_pontos_lista[i]:k_pontos_lista[i + 1]]\n",
    "        \n",
    "        return desc_1, desc_2"
   ]
  },
  {
   "cell_type": "markdown",
   "metadata": {},
   "source": [
    "#### Embaralhamento"
   ]
  },
  {
   "cell_type": "code",
   "execution_count": 9,
   "metadata": {},
   "outputs": [],
   "source": [
    "from numpy.random import randint\n",
    "from numpy.random import shuffle    \n",
    "\n",
    "class Embaralhamento(CruzamentoBase):\n",
    "    \n",
    "    def __init__(self, total_populacao):\n",
    "        super(Embaralhamento, self).__init__(total_populacao)\n",
    "        \n",
    "    def cruzamento(self, progenitor_1, progenitor_2):\n",
    "        n_1, n_2 = len(progenitor_1), len(progenitor_2)\n",
    "        \n",
    "        if n_1 != n_2:\n",
    "            exp_msg = f'Tamanhos não compatíveis {n_1} != {n_2}'\n",
    "            raise TamanhoIndividuosIncompativelError(exp_msg)\n",
    "        \n",
    "        order = list(range(n_1))\n",
    "        \n",
    "        shuffle(order)\n",
    "        \n",
    "        ponto = randint(1, n_1 - 1)\n",
    "        \n",
    "        desc_1, desc_2 = progenitor_1.copy(), progenitor_2.copy()\n",
    "        \n",
    "        desc_1[:], desc_2[:] = desc_1[order], desc_2[order]\n",
    "        \n",
    "        desc_1[ponto:], desc_2[ponto:] = desc_2[ponto:], desc_1[ponto:]\n",
    "        \n",
    "        tmp_1, tmp_2 = desc_1.copy(), desc_2.copy()\n",
    "        \n",
    "        for i, j in enumerate(order):\n",
    "            desc_1[j], desc_2[j] = tmp_1[i], tmp_2[i]\n",
    "        \n",
    "        return desc_1, desc_2"
   ]
  },
  {
   "cell_type": "markdown",
   "metadata": {},
   "source": [
    "### Mutação"
   ]
  },
  {
   "cell_type": "markdown",
   "metadata": {},
   "source": [
    "#### Classe abstrata"
   ]
  },
  {
   "cell_type": "code",
   "execution_count": 10,
   "metadata": {},
   "outputs": [],
   "source": [
    "from numpy import array\n",
    "from numpy.random import random\n",
    "from numpy.random import randint\n",
    "\n",
    "class MutacaoBase:\n",
    "    \n",
    "    def __init__(self, mutacao_proba):\n",
    "        self.mutacao_proba = mutacao_proba\n",
    "        self._populacao = None\n",
    "        self.n_populacao = None\n",
    "        self.n_genes = None\n",
    "        \n",
    "    def _set_populacao(self, populacao):\n",
    "        self._populacao = populacao\n",
    "        self.n_populacao = self._populacao.shape[0]\n",
    "        self.n_genes = self._populacao.shape[1]\n",
    "        \n",
    "    def _get_populacao(self):\n",
    "        return self._populacao\n",
    "    \n",
    "    def selecao(self):\n",
    "        n_mutacoes = array([i for i in range(self.n_populacao)\n",
    "                              if random() < self.mutacao_proba])\n",
    "        return n_mutacoes\n",
    "\n",
    "    def mutacao(self):\n",
    "        raise NotImplementedError('Precisa ser implementado')\n",
    "    \n",
    "    populacao = property(_get_populacao, _set_populacao)"
   ]
  },
  {
   "cell_type": "markdown",
   "metadata": {},
   "source": [
    "#### Flip"
   ]
  },
  {
   "cell_type": "code",
   "execution_count": 11,
   "metadata": {},
   "outputs": [],
   "source": [
    "from numpy import array\n",
    "from numpy.random import randint\n",
    "\n",
    "class Flip(MutacaoBase):\n",
    "    \n",
    "    def __init__(self, mutacao_proba):\n",
    "        super(Flip, self).__init__(mutacao_proba)\n",
    "        \n",
    "    def mutacao(self):\n",
    "        n_mutacoes = self.selecao()\n",
    "        \n",
    "        genes_flip = array([randint(0, self.n_genes - 1) for _ in n_mutacoes])\n",
    "        \n",
    "        self.populacao[n_mutacoes, genes_flip] = 1 - self.populacao[n_mutacoes, genes_flip]"
   ]
  },
  {
   "cell_type": "markdown",
   "metadata": {},
   "source": [
    "#### Dupla troca"
   ]
  },
  {
   "cell_type": "code",
   "execution_count": 12,
   "metadata": {},
   "outputs": [],
   "source": [
    "from numpy import array\n",
    "\n",
    "class DuplaTroca(MutacaoBase):\n",
    "    \n",
    "    def __init__(self, mutacao_proba):\n",
    "        super(Flip, self).__init__(mutacao_proba)\n",
    "        \n",
    "    def mutacao(self):\n",
    "        n_mutacoes = self.selecao()\n",
    "        \n",
    "        genes_1 = array([randint(0, self.n_genes - 1) for _ in n_mutacoes])\n",
    "        genes_2 = array([randint(0, self.n_genes - 1) for _ in n_mutacoes])\n",
    "        \n",
    "        self.populacao[n_mutacoes, genes_1] = self.populacao[n_mutacoes, genes_2]\n",
    "        self.populacao[n_mutacoes, genes_2] = self.populacao[n_mutacoes, genes_1]"
   ]
  },
  {
   "cell_type": "markdown",
   "metadata": {},
   "source": [
    "#### Sequência reversa"
   ]
  },
  {
   "cell_type": "code",
   "execution_count": 14,
   "metadata": {},
   "outputs": [],
   "source": [
    "from numpy import array\n",
    "from numpy import newaxis\n",
    "from numpy.random import randint\n",
    "\n",
    "class SequenciaReversa(MutacaoBase):\n",
    "    \n",
    "    def __init__(self, mutacao_proba):\n",
    "        super(Flip, self).__init__(mutacao_proba)\n",
    "        \n",
    "    def mutacao(self):\n",
    "        n_mutacoes = self.selecao()\n",
    "        \n",
    "        if n_mutacoes.size != 0:\n",
    "            \n",
    "            for k in n_mutacoes:\n",
    "                \n",
    "                i, j = randint(0, self.n_genes - 1), randint(0, self.n_genes - 1)\n",
    "                \n",
    "                while i == j:\n",
    "                    j = randint(0, self.n_genes - 1)\n",
    "                    \n",
    "                if i > j:\n",
    "                    i, j = j, i\n",
    "                    \n",
    "                self.populacao[k, i:j] = self.populacao[k, i:j][::-1]"
   ]
  },
  {
   "cell_type": "markdown",
   "metadata": {},
   "source": [
    "## Função de avaliação"
   ]
  },
  {
   "cell_type": "markdown",
   "metadata": {},
   "source": [
    "### Função objetivo\n",
    "\n",
    "$$\n",
    "3(x - 1) ^ 2 exp(- (y + 1) ^ 2 - x ^ 2) - exp (- \\frac{(x + 1)^2 - y^2}{3}) + exp (-x^2 -y^2) (10x^3 - 2x  + 10y^5)\n",
    "$$"
   ]
  },
  {
   "cell_type": "code",
   "execution_count": 34,
   "metadata": {},
   "outputs": [],
   "source": [
    "from numpy import exp\n",
    "\n",
    "def func_objetivo(x, y):\n",
    "    return 3 * exp(-(y + 1)**2 - x**2) \\\n",
    "           * (x - 1)**2 \\\n",
    "           - (exp(-(x + 1)**2 - y**2) / 3) \\\n",
    "           + exp(-x**2 -y**2) \\\n",
    "           * (10 * x**3 - 2 * x + 10 * y**5)"
   ]
  },
  {
   "cell_type": "code",
   "execution_count": 35,
   "metadata": {},
   "outputs": [],
   "source": [
    "from numpy import exp\n",
    "\n",
    "def bin(x):\n",
    "    cnt = array([2 ** i for i in range(x.shape[1])])\n",
    "    return array([(cnt * x[i,:]).sum() for i in range(x.shape[0])])"
   ]
  },
  {
   "cell_type": "code",
   "execution_count": 36,
   "metadata": {},
   "outputs": [],
   "source": [
    "def xy(populacao):\n",
    "    colunas = populacao.shape[1]\n",
    "\n",
    "    meio = colunas // 2\n",
    "\n",
    "    maior_bin = 2.0**meio - 1.0\n",
    "\n",
    "    n_min, n_max = -3, 3\n",
    "\n",
    "    const = (n_max - n_min) / maior_bin\n",
    "\n",
    "    x = n_min + const * bin(populacao[:,:meio])\n",
    "    y = n_min + const * bin(populacao[:,meio:])\n",
    "\n",
    "    return x, y"
   ]
  },
  {
   "cell_type": "code",
   "execution_count": 37,
   "metadata": {},
   "outputs": [],
   "source": [
    "def avaliacao(populacao):\n",
    "    x, y = xy(populacao)\n",
    "\n",
    "    tmp = func_objetivo(x, y)\n",
    "\n",
    "    return tmp"
   ]
  }
 ],
 "metadata": {
  "kernelspec": {
   "display_name": "Python 3 (ipykernel)",
   "language": "python",
   "name": "python3"
  }
 },
 "nbformat": 4,
 "nbformat_minor": 2
}
