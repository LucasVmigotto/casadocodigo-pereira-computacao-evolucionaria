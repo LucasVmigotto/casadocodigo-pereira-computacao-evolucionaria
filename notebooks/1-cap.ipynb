{
 "cells": [
  {
   "cell_type": "markdown",
   "metadata": {},
   "source": [
    "# Introdução"
   ]
  },
  {
   "cell_type": "markdown",
   "metadata": {},
   "source": [
    "> \"[...] chamado algoritmo genético, em que se coloca populações de indivíduos para evoluir em busca de se resolver um problema. Uma das aplicações mais fascinantes da atualidade da computação evolucionária é o da criação de programas capazes de criar programas, a programação genética. Outras aplicações relevantes são determinação de melhor rota de veículos, design de circuitos, classificação de clientes, alocação de espaço físico e determinação automática de estruturas de redes neurais artificiais. Com esse último caso, vemos que existe uma interoperabilidade entre os diversos ramos da IA.[...]\" pg. 9"
   ]
  },
  {
   "cell_type": "code",
   "execution_count": null,
   "metadata": {},
   "outputs": [],
   "source": []
  }
 ],
 "metadata": {
  "kernelspec": {
   "display_name": "Python 3 (ipykernel)",
   "language": "python",
   "name": "python3"
  }
 },
 "nbformat": 4,
 "nbformat_minor": 2
}
